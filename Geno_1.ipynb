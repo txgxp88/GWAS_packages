{
 "cells": [
  {
   "cell_type": "code",
   "execution_count": null,
   "id": "4f8b7e43",
   "metadata": {},
   "outputs": [],
   "source": [
    "import os\n",
    "import subprocess\n",
    "import pandas as pd\n",
    "import dxdy"
   ]
  },
  {
   "cell_type": "markdown",
   "id": "d1a054ef",
   "metadata": {},
   "source": [
    "# Command functions"
   ]
  },
  {
   "cell_type": "code",
   "execution_count": null,
   "id": "019e1cfd",
   "metadata": {},
   "outputs": [],
   "source": [
    "# download command\n",
    "def dx_download(project_name, file_name, dest_name):\n",
    "    quoted_path = f'\"{project_name}:{file_name}\"'\n",
    "    download_command = f\"dx download {quoted_path} -o {dest_name}\"\n",
    "    print(f\"Downloading {file_name} from {project_name} to {dest_name}\")\n",
    "    subprocess.run(download_command, shell=True, check=True)\n",
    "\n",
    "# upload command\n",
    "def dx_upload(file_name, dest_name):\n",
    "    upload_command = f\"dx upload {file_name} -o {dest_name}\"\n",
    "    print(f\"Uploading {file_name} to {dest_name}\")\n",
    "    subprocess.run(upload_command, shell=True, check=True)"
   ]
  },
  {
   "cell_type": "markdown",
   "id": "f8f8b588",
   "metadata": {},
   "source": [
    "# Data preparation"
   ]
  },
  {
   "cell_type": "code",
   "execution_count": null,
   "id": "89e2ff4d",
   "metadata": {},
   "outputs": [],
   "source": [
    "## Download genotype data from DNA Nexus\n",
    "# make and check dirctory\n",
    "if not os.path.exists(\"UKB_genotype_data\"):\n",
    "    os.makedirs(\"UKB_genotype_data\")\n",
    "    \n",
    "    \n",
    "# project_id = dxpy.api.user_get_project({'project': dxpy.DXProject('').get_id()})['project']\n",
    "# project_name = dxpy.DXProject(project_id).describe()['name']\n",
    "project_name = \"project-GxqpVq0Jpp5Py82xVbZV198y\"\n",
    "\n",
    "#UK biobank geno-path path\n",
    "genotype_folder = \"/Bulk/Imputation/UKB imputation from genotype\"\n"
   ]
  },
  {
   "cell_type": "markdown",
   "id": "d487b156",
   "metadata": {},
   "source": [
    "## download files for Chr 1-22, X, XY"
   ]
  },
  {
   "cell_type": "code",
   "execution_count": null,
   "id": "ca532a2c",
   "metadata": {},
   "outputs": [],
   "source": [
    "# Chr1-22, X, XY\n",
    "def file_download(chr_num):\n",
    "    bgen_file_name = f\"{genotype_folder}/ukb22828_c{chr_num}_b0_v3.bgen\"\n",
    "    bgen_dest_name = f\"UKB_genotype_data/chr{chr_num}.bgen\"\n",
    "    dx_download(project_name, bgen_file_name, bgen_dest_name)\n",
    "    bgi_file_name = f\"{genotype_folder}/ukb22828_c{chr_num}_b0_v3.bgen.bgi\"\n",
    "    bgi_dest_name = f\"UKB_genotype_data/chr{chr_num}.bgen.bgi\"\n",
    "    dx_download(project_name, bgi_file_name, bgi_dest_name)\n",
    "    mfi_file_name = f\"{genotype_folder}/ukb22828_c{chr_num}_b0_v3.mfi.txt\"\n",
    "    mfi_dest_name = f\"UKB_genotype_data/chr{chr_num}.mfi.txt\"\n",
    "    dx_download(project_name, mfi_file_name, mfi_dest_name)\n",
    "    sample_file_name = f\"{genotype_folder}/ukb22828_c{chr_num}_b0_v3.sample\"\n",
    "    sample_dest_name = f\"UKB_genotype_data/chr{chr_num}.sample\"\n",
    "    dx_download(project_name, sample_file_name, sample_dest_name)\n"
   ]
  },
  {
   "cell_type": "markdown",
   "id": "c6dd4930",
   "metadata": {},
   "source": [
    "## bgen transform to plink format"
   ]
  },
  {
   "cell_type": "code",
   "execution_count": null,
   "id": "c589e5ee",
   "metadata": {},
   "outputs": [],
   "source": [
    "## bgen transform to plink format\n",
    "def bgen_to_plink(bgen_file, sample_file, output_prefix, keep_file):\n",
    "    print(f\"Transforming {bgen_file} to plink format...\")\n",
    "    cmd = f\"plink2 --bgen {bgen_file} ref-first \\\n",
    "                --sample {sample_file} \\\n",
    "                --extract {output_prefix}.mfi_filtered.txt \\\n",
    "                --keep {keep_file} \\\n",
    "                --make-bed \\\n",
    "                --out {output_prefix}\"\n",
    "    print(cmd)\n",
    "    subprocess.run(cmd, shell=True, check=True)\n",
    "    print(f\"Transformed {bgen_file} to plink format.\")"
   ]
  },
  {
   "cell_type": "markdown",
   "id": "2eac10ad",
   "metadata": {},
   "source": [
    "## Filter SNPs with info score >= 0.9 (extract high quality imputed SNPs)"
   ]
  },
  {
   "cell_type": "code",
   "execution_count": null,
   "id": "81cef5b3",
   "metadata": {},
   "outputs": [],
   "source": [
    "def filter_info(input_file, output_file, info_col=7, snp_col=1, threshold=0.9):\n",
    "    print(f\"Filtering SNPs with info score >= {threshold} from {input_file} to {output_file}...\")\n",
    "    with open(input_file, 'r') as infile, open(output_file, 'w') as outfile:\n",
    "        for line in infile:\n",
    "            fields = line.strip().split()\n",
    "            try:\n",
    "                info_score = float(fields[info_col])  # 0-based index, so column 8 is index 7\n",
    "                if info_score >= threshold:\n",
    "                    outfile.write(fields[snp_col] + \"\\n\")\n",
    "            except (IndexError, ValueError):\n",
    "                continue"
   ]
  },
  {
   "cell_type": "markdown",
   "id": "463c3d72",
   "metadata": {},
   "source": [
    "## Subset and filter subjects (to be updated)"
   ]
  },
  {
   "cell_type": "code",
   "execution_count": null,
   "id": "9cd89b65",
   "metadata": {},
   "outputs": [],
   "source": [
    "# Subset and filter sample file create (to be updated)\n",
    "\n",
    "def subset_samples(input_file, output_file, filter_caucasian: bool = True):\n",
    "    print(f\"Subsetting samples from {input_file} to {output_file}...\")\n",
    "    # Load CSV and standardize column names\n",
    "    df = pd.read_csv(input_file, sep=\",\")\n",
    "    df.columns = [col.strip() for col in df.columns]\n",
    "    # Filter by Caucasian\n",
    "    if filter_caucasian:\n",
    "        df = df[df[\"p22006\"] == \"1\"]\n",
    "    else:\n",
    "        print(\"No filtering applied for Caucasian samples.\")\n",
    "    \n",
    "    # format for plink keep\n",
    "    keep_df = df[[\"eid\"]].rename(columns={\"eid\": \"IID\"})\n",
    "    keep_df = keep_df.assign(FID=keep_df[\"IID\"])[[\"FID\", \"IID\"]]\n",
    "    \n",
    "    # Save to file\n",
    "    keep_df.to_csv(output_file, sep=\"\\t\", index=False, header=False)\n",
    "    print(f\"Saved {len(keep_df)} samples to {output_file}\")\n",
    "    \n",
    "\n",
    "# Subset samples: initial file has already prepared from the cohort app\n",
    "dx_download(project_name, \"full_participant.csv\", \"participant_table.csv\")\n",
    "input_file = \"participant_table.csv\"\n",
    "output_file = \"image_subset.txt\"\n",
    "\n",
    "subset_samples(input_file, output_file, filter_caucasian=False)"
   ]
  },
  {
   "cell_type": "markdown",
   "id": "13e0cba8",
   "metadata": {},
   "source": [
    "# Main pipeline"
   ]
  },
  {
   "cell_type": "code",
   "execution_count": null,
   "id": "9daed4f2",
   "metadata": {},
   "outputs": [],
   "source": [
    "# file_list\n",
    "chr_num_list = list(range(1, 23))\n",
    "chr_num_list = list(map(str, chr_num_list))\n",
    "chr_num_list.append('X')\n",
    "chr_num_list.append('XY')\n",
    "\n",
    "\n",
    "# Download files\n",
    "for chr_num in chr_num_list:\n",
    "    # Download bgen, bgi, mfi, and sample files\n",
    "    file_download(chr_num)\n",
    "    \n",
    "    input_file = f\"UKB_genotype_data/chr{chr_num}.mfi.txt\"\n",
    "    output_file = f\"UKB_genotype_data/chr{chr_num}.mfi_filtered.txt\"\n",
    "    \n",
    "    # Filter mfi file\n",
    "    filter_info(input_file, output_file, info_col=7, snp_col=1, threshold=0.9)\n",
    "    \n",
    "    # Subset and filter sample file: generate image_subset.txt\n",
    "    subset_samples(input_file, output_file, filter_caucasian=False)\n",
    "    \n",
    "    ## Transform bgen to plink format\n",
    "    bgen_file = f\"UKB_genotype_data/chr{chr_num}.mfi.txt\"\n",
    "    sample_file = f\"UKB_genotype_data/chr{chr_num}.sample\"\n",
    "    output_prefix = f\"UKB_genotype_data/chr{chr_num}\"\n",
    "    keep_file = \"image_subset.txt\"\n",
    "    bgen_to_plink(bgen_file, sample_file, output_prefix, keep_file)\n",
    "    \n",
    "    # Upload the files to the project\n",
    "\n",
    "    # upload the chromosome plink files to the project\n",
    "    genotype_destination_folder = \"/GWAS_pipeline/Genotype_data\"# customize this path\n",
    "    \n",
    "    dx_upload(f\"UKB_genotype_data/chr{chr_num}.bed\", f\"{genotype_destination_folder}/chr{chr_num}_62k.bed\")\n",
    "    dx_upload(f\"UKB_genotype_data/chr{chr_num}.bim\", f\"{genotype_destination_folder}/chr{chr_num}_62k.bim\")\n",
    "    dx_upload(f\"UKB_genotype_data/chr{chr_num}.fam\", f\"{genotype_destination_folder}/chr{chr_num}_62k.fam\")\n",
    "    \n",
    "    \n"
   ]
  }
 ],
 "metadata": {
  "kernelspec": {
   "display_name": "Python_interpre",
   "language": "python",
   "name": "python3"
  },
  "language_info": {
   "codemirror_mode": {
    "name": "ipython",
    "version": 3
   },
   "file_extension": ".py",
   "mimetype": "text/x-python",
   "name": "python",
   "nbconvert_exporter": "python",
   "pygments_lexer": "ipython3",
   "version": "3.12.7"
  }
 },
 "nbformat": 4,
 "nbformat_minor": 5
}
