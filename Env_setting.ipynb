{
 "cells": [
  {
   "cell_type": "markdown",
   "id": "4b569c38",
   "metadata": {},
   "source": [
    "# Package installation"
   ]
  },
  {
   "cell_type": "code",
   "execution_count": null,
   "id": "ba4fae95",
   "metadata": {},
   "outputs": [],
   "source": [
    "import os\n",
    "import subprocess\n",
    "import dxdy"
   ]
  },
  {
   "cell_type": "markdown",
   "id": "299ffed7",
   "metadata": {},
   "source": [
    "## Command functions"
   ]
  },
  {
   "cell_type": "code",
   "execution_count": null,
   "id": "75c6ee65",
   "metadata": {},
   "outputs": [],
   "source": [
    "# download command\n",
    "def dx_download(project_name, file_name, dest_name):\n",
    "    quoted_path = f'\"{project_name}:{file_name}\"'\n",
    "    download_command = f\"dx download {quoted_path} -o {dest_name}\"\n",
    "    print(f\"Downloading {file_name} from {project_name} to {dest_name}\")\n",
    "    subprocess.run(download_command, shell=True, check=True)\n",
    "\n",
    "# upload command\n",
    "def dx_upload(file_name, dest_name):\n",
    "    upload_command = f\"dx upload {file_name} -o {dest_name}\"\n",
    "    print(f\"Uploading {file_name} to {dest_name}\")\n",
    "    subprocess.run(upload_command, shell=True, check=True)"
   ]
  },
  {
   "cell_type": "markdown",
   "id": "f888fb99",
   "metadata": {},
   "source": [
    "## Instance Environment settings"
   ]
  },
  {
   "cell_type": "code",
   "execution_count": null,
   "id": "bd6c8c5f",
   "metadata": {},
   "outputs": [],
   "source": [
    "# project_id = dxpy.api.user_get_project({'project': dxpy.DXProject('').get_id()})['project']\n",
    "# project_name = dxpy.DXProject(project_id).describe()['name']\n",
    "project_name = \"project-GxqpVq0Jpp5Py82xVbZV198y“\n",
    "\n",
    "\n",
    "# Retrieve the tool setup script\n",
    "work_path = os.getcwd()\n",
    "filename = 'packages_installation.sh'\n",
    "installation_dir = os.path.join(work_path, filename)\n",
    "\n",
    "# Download the tool setup script\n",
    "tool_path = \"/GWAS_pipeline/tools\"\n",
    "tools_packages = os.path.join(tool_path, filename)\n",
    "dx_download(project_name, tools_packages, \"packages_installation.sh\")\n",
    "\n",
    "\n",
    "# Set up the environment\n",
    "subprocess.run(\"bash \"+installation_dir, shell=True, check=True)"
   ]
  }
 ],
 "metadata": {
  "kernelspec": {
   "display_name": "Python_interpre",
   "language": "python",
   "name": "python3"
  },
  "language_info": {
   "codemirror_mode": {
    "name": "ipython",
    "version": 3
   },
   "file_extension": ".py",
   "mimetype": "text/x-python",
   "name": "python",
   "nbconvert_exporter": "python",
   "pygments_lexer": "ipython3",
   "version": "3.12.7"
  }
 },
 "nbformat": 4,
 "nbformat_minor": 5
}
