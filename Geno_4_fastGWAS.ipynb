{
 "cells": [
  {
   "cell_type": "code",
   "execution_count": null,
   "id": "1a34f71f",
   "metadata": {},
   "outputs": [],
   "source": [
    "import os\n",
    "import subprocess\n",
    "import pandas as pd"
   ]
  },
  {
   "cell_type": "code",
   "execution_count": null,
   "id": "2e3d3aac",
   "metadata": {},
   "outputs": [],
   "source": [
    "# download command\n",
    "def dx_download(project_name, file_name, dest_name):\n",
    "    quoted_path = f'\"{project_name}:{file_name}\"'\n",
    "    download_command = f\"dx download {quoted_path} -o {dest_name}\"\n",
    "    print(f\"Downloading {file_name} from {project_name} to {dest_name}\")\n",
    "    subprocess.run(download_command, shell=True, check=True)\n",
    "\n",
    "# upload command\n",
    "def dx_upload(file_name, dest_name):\n",
    "    upload_command = f\"dx upload {file_name} -o {dest_name}\"\n",
    "    print(f\"Uploading {file_name} to {dest_name}\")\n",
    "    subprocess.run(upload_command, shell=True, check=True)"
   ]
  },
  {
   "cell_type": "markdown",
   "id": "d45e7e6a",
   "metadata": {},
   "source": [
    "# FastGWAS"
   ]
  },
  {
   "cell_type": "code",
   "execution_count": null,
   "id": "610c1f5b",
   "metadata": {},
   "outputs": [],
   "source": [
    "\n",
    "# project name    \n",
    "# project_id = dxpy.api.user_get_project({'project': dxpy.DXProject('').get_id()})['project']\n",
    "# project_name = dxpy.DXProject(project_id).describe()['name']\n",
    "project_name = \"project-GxqpVq0Jpp5Py82xVbZV198y\"\n",
    "\n",
    "# cloud genotype data path\n",
    "genotype_origin_folder = \"/GWAS_pipeline\"\n",
    "\n",
    "\n",
    "# Instance storage path: make and check dirctory\n",
    "In_saving_folder = \"UKB54k_genotype_data\"\n",
    "if not os.path.exists(f\"{In_saving_folder}\"):\n",
    "    os.makedirs(In_saving_folder)"
   ]
  },
  {
   "cell_type": "markdown",
   "id": "da603036",
   "metadata": {},
   "source": [
    "## Data Preparation"
   ]
  },
  {
   "cell_type": "code",
   "execution_count": null,
   "id": "4961f59c",
   "metadata": {},
   "outputs": [],
   "source": [
    "##################################################################\n",
    "# Download the genotype data\n",
    "genotype_folder = f\"{genotype_origin_folder}/QCed_autosomes\"\n",
    "file_name = \"ukb54k_EUR_qced.bed\"\n",
    "dest_name = f\"{In_saving_folder}/ukb54k_EUR_qced.bed\"\n",
    "dx_download(project_name, genotype_folder + \"/\" + file_name, dest_name)\n",
    "file_name = \"ukb54k_EUR_qced.bim\"\n",
    "dest_name = f\"{In_saving_folder}/ukb54k_EUR_qced.bim\"\n",
    "dx_download(project_name, genotype_folder + \"/\" + file_name, dest_name)\n",
    "file_name = \"ukb54k_EUR_qced.fam\"\n",
    "dest_name = f\"{In_saving_folder}/ukb54k_EUR_qced.fam\"\n",
    "dx_download(project_name, genotype_folder + \"/\" + file_name, dest_name)\n",
    "\n",
    "##################################################################\n",
    "# Download the GRM data\n",
    "if not os.path.exists(f\"{In_saving_folder}/GRM\"):\n",
    "    os.makedirs(f\"{In_saving_folder}/GRM\")\n",
    "    \n",
    "\n",
    "grm_file = f\"{genotype_origin_folder}/GRM/ukb54k_EUR_qced_sprs_grm.grm.id\"\n",
    "dest_name = f\"{In_saving_folder}/GRM/ukb54k_EUR_qced_sprs_grm.grm.id\"\n",
    "dx_download(project_name, grm_file, dest_name)\n",
    "grm_file = f\"{genotype_origin_folder}/GRM/ukb54k_EUR_qced_sprs_grm.grm.sp\"\n",
    "dest_name = f\"{In_saving_folder}/GRM/ukb54k_EUR_qced_sprs_grm.grm.sp\"\n",
    "dx_download(project_name, grm_file, dest_name)\n",
    "\n",
    "##################################################################\n",
    "# Download the phenotype data\n",
    "if not os.path.exists(f\"{In_saving_folder}/phenotype\"):\n",
    "    os.makedirs(f\"{In_saving_folder}/phenotype\")\n",
    "phenotype_file = f\"{genotype_origin_folder}/Image_dataset/final_pheno_caucasian.txt\"\n",
    "dest_name = f\"{In_saving_folder}/phenotype/UKB_cortical_phenotypes.csv\"\n",
    "dx_download(project_name, phenotype_file, dest_name)\n",
    "\n",
    "\n",
    "##################################################################\n",
    "# Download the covariate data\n",
    "if not os.path.exists(f\"{In_saving_folder}/covariates\"):\n",
    "    os.makedirs(f\"{In_saving_folder}/covariates\")\n",
    "\n",
    "covariate_file = f\"{genotype_origin_folder}/Covariates/ukb_covar.txt\"\n",
    "dest_name = f\"{In_saving_folder}/covariates/ukb_covar.txt\"\n",
    "dx_download(project_name, covariate_file, dest_name)\n",
    "qcov_file = f\"{genotype_origin_folder}/Covariates/ukb_qcovar.txt\"\n",
    "dest_name = f\"{In_saving_folder}/covariates/ukb_qcovar.txt\"\n",
    "dx_download(project_name, qcov_file, dest_name)"
   ]
  },
  {
   "cell_type": "markdown",
   "id": "df98749e",
   "metadata": {},
   "source": [
    "## Step 1"
   ]
  },
  {
   "cell_type": "code",
   "execution_count": null,
   "id": "c6f79d68",
   "metadata": {},
   "outputs": [],
   "source": [
    "# Create the feature list for the phenotype files\n",
    "pheno = pd.read_csv(f\"{In_saving_folder}/phenotypes/UKB_cortical_phenotypes.csv\")\n",
    "pheno_features = [col for col in pheno.columns if col not in ['FID', 'IID', 'version']]\n",
    "for f in pheno_features:\n",
    "    ## Create the phenotype file per columns\n",
    "    pheno_file = f\"{In_saving_folder}/phenotypes/pheno_{f}.txt\"\n",
    "\n",
    "    # Write phenotype file\n",
    "    pheno_df_subset = pheno[[\"FID\", \"IID\", f]].dropna()\n",
    "    pheno_df_subset.columns = [\"FID\", \"IID\", \"PHENO\"]\n",
    "    pheno_df_subset.to_csv(pheno_file, sep=\"\\t\", index=False)"
   ]
  },
  {
   "cell_type": "markdown",
   "id": "accaab2c",
   "metadata": {},
   "source": [
    "## Step 2"
   ]
  },
  {
   "cell_type": "code",
   "execution_count": null,
   "id": "d4c4df94",
   "metadata": {},
   "outputs": [],
   "source": [
    "# Create fastGWAS function\n",
    "\"\"\"\n",
    "fastGWA function will auto match the FID and IID from all the files\n",
    "Be cautious with any missing values in the phenotype file (cause crash immediately)\n",
    "\"\"\"\n",
    "def fastGWA(input_file, output_file, grm_file, pheno_file, covar_file, qcovar_file, threads=10):\n",
    "    print(\"Running fastGWA for ...\")\n",
    "    cmd = f\"gcta64 --bfile {input_file} \\\n",
    "                --grm-sparse {grm_file} \\\n",
    "                --fastGWA-mlm \\\n",
    "                --covar {covar_file} \\\n",
    "                --qcovar {qcovar_file} \\\n",
    "                --pheno {pheno_file} \\\n",
    "                --threads {threads} \\\n",
    "                --out {output_file}\"\n",
    "    print(cmd)\n",
    "    subprocess.run(cmd, shell=True, check=True)"
   ]
  },
  {
   "cell_type": "code",
   "execution_count": null,
   "id": "79e87291",
   "metadata": {},
   "outputs": [],
   "source": [
    "# Run fastGWA for each phenotype\n",
    "\n",
    "if not os.path.exists(f\"{In_saving_folder}/fastGWA_results\"):\n",
    "    os.makedirs(f\"{In_saving_folder}/fastGWA_results\")\n",
    "\n",
    "for fea in pheno_features:\n",
    "    pheno_file = f\"{In_saving_folder}/phenotypes/pheno_{fea}.txt\"\n",
    "    output_file = f\"{In_saving_folder}/fastGWA_results/{fea}_sumstat\"\n",
    "    grm_file = f\"{In_saving_folder}/GRM/ukb54k_EUR_qced_sprs_grm\"\n",
    "    covar_file = f\"{In_saving_folder}/covariates/ukb_covar.txt\"\n",
    "    qcovar_file = f\"{In_saving_folder}/covariates/ukb_qcovar.txt\"\n",
    "    input_file = f\"{In_saving_folder}/ukb54k_EUR_qced\"\n",
    "\n",
    "    fastGWA(input_file, output_file, grm_file, pheno_file, covar_file, qcovar_file)"
   ]
  },
  {
   "cell_type": "markdown",
   "id": "46f1ca57",
   "metadata": {},
   "source": [
    "## Step 3"
   ]
  },
  {
   "cell_type": "code",
   "execution_count": null,
   "id": "d70a61d1",
   "metadata": {},
   "outputs": [],
   "source": [
    "instance_folder = f\"{In_saving_folder}/fastGWA_results\"\n",
    "project_folder = f\"{genotype_origin_folder}/GWAS_dataset/fastGWAS_sumstats\"\n",
    "\n",
    "# Loop through each file and upload it\n",
    "for fname in os.listdir(instance_folder):\n",
    "    local_path = os.path.join(instance_folder, fname)\n",
    "    if os.path.isfile(local_path):\n",
    "        dest_path = f\"{project_folder}/{fname}\"\n",
    "        dx_upload(local_path, dest_path)"
   ]
  }
 ],
 "metadata": {
  "language_info": {
   "name": "python"
  }
 },
 "nbformat": 4,
 "nbformat_minor": 5
}
