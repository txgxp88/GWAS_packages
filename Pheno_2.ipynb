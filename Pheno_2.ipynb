{
 "cells": [
  {
   "cell_type": "markdown",
   "id": "2fcdffcb",
   "metadata": {},
   "source": [
    "# Making a subject list for examination"
   ]
  },
  {
   "cell_type": "code",
   "execution_count": null,
   "id": "3b8b6fe0",
   "metadata": {},
   "outputs": [],
   "source": [
    "#list all files from bulk:\n",
    "import dxpy\n",
    "import os\n",
    "import subprocess\n",
    "import zipfile\n",
    "import shutil\n",
    "\n",
    "import numpy as np\n",
    "import pandas as pd\n",
    "\n",
    "# project_id = dxpy.api.user_get_project({'project': dxpy.DXProject('').get_id()})['project']\n",
    "# project_name = dxpy.DXProject(project_id).describe()['name']\n",
    "project_id = 'project-GxqpVq0Jpp5Py82xVbZV198y'  # Replace with the actual project ID\n",
    "\n",
    "# Create a DXProject object for the project\n",
    "project = dxpy.DXProject(project_id)\n",
    "\n",
    "# Cloud source \n",
    "phenotype_origin_folder = \"/GWAS_pipeline\"\n",
    "\n",
    "# List the contents of the root folder\n",
    "num = 0\n",
    "# df = pd.DataFrame(columns=['name','hemis'])\n",
    "df =[]\n",
    "\n",
    "folder_path = f'/{phenotype_origin_folder}/Annotate_files'\n",
    "folder_contents = project.list_folder(folder_path)\n",
    "if 'objects' in folder_contents:\n",
    "    for item in folder_contents['objects']:\n",
    "        \n",
    "        num = num+1\n",
    "        \n",
    "        dx_file = dxpy.DXFile(item[\"id\"])\n",
    "        file_metadata = dx_file.describe()\n",
    "        # print(file_metadata['name'])\n",
    "        path_list = file_metadata['name'].split('_')\n",
    "        \n",
    "        folder = path_list[0]\n",
    "        print(folder)\n",
    "        \n",
    "        new_string = '_'.join( path_list[1:-1] )\n",
    "        print(new_string)\n",
    "        print(path_list[-1][0:2])\n",
    "        \n",
    "        df.append([folder, new_string, path_list[-1][0:2], item[\"id\"]])\n",
    "        \n",
    "            \n",
    "\n",
    "\n",
    "df_frame = pd.DataFrame(df, columns=['folder','name','hemis','file_id'])    \n",
    "        \n",
    "df_frame.to_csv('subject_list_annot_existed.csv', index=True)  \n",
    "\n",
    "# Upload files\n",
    "    \n",
    "command = f'dx upload subject_list_annot_existed.csv -o {project_id}:/{phenotype_origin_folder}/subject_list_annot_existed_latest.csv'\n",
    "subprocess.run(command, shell=True, check=True)\n",
    "    "
   ]
  }
 ],
 "metadata": {
  "kernelspec": {
   "display_name": "Python 3 (ipykernel)",
   "language": "python",
   "name": "python3"
  },
  "language_info": {
   "codemirror_mode": {
    "name": "ipython",
    "version": 3
   },
   "file_extension": ".py",
   "mimetype": "text/x-python",
   "name": "python",
   "nbconvert_exporter": "python",
   "pygments_lexer": "ipython3",
   "version": "3.11.5"
  }
 },
 "nbformat": 4,
 "nbformat_minor": 5
}
