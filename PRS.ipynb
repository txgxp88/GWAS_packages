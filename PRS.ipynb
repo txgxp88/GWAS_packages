{
 "cells": [
  {
   "cell_type": "markdown",
   "id": "63b9152f",
   "metadata": {},
   "source": [
    "### the gitclone command: git clone https://github.com/getian107/PRScs.git\n",
    "### this part the package required is scipy and h5py, I used conda enviroment\n",
    "### note update: Import random module from numpy instead of scipy\n",
    "\n",
    "### ref_dir: LD_block info is using the 1kg_eur reference panel, downloaded from github page https://github.com/getian107/PRScs (can be update to UKB or other ethnic group)\n",
    "### bim_prefix: the genotype file, I used UKB42krep.QC, and this file is used to provide a list of SNPs that are available in the target dataset\n",
    "### sst_file: the summary statistics file, I used IQ.gwas, and this summary statistics file must include either BETA/OR + SE or BETA/OR + P, and it is strictly SNP/tA1/tA2/tBETA/tSE/n, etc.\n",
    "### n_gwas: the sample size of the summary statistics file, I used 74214, and this number is used to calculate the effective sample size\n"
   ]
  },
  {
   "cell_type": "code",
   "execution_count": null,
   "id": "66872642",
   "metadata": {},
   "outputs": [],
   "source": [
    "# the gitclone command: git clone https://github.com/getian107/PRScs.git\n",
    "# this part the package required is scipy and h5py, I used conda enviroment\n",
    "# note update: Import random module from numpy instead of scipy\n",
    "\n",
    "# ref_dir: LD_block info is using the 1kg_eur reference panel, downloaded from github page https://github.com/getian107/PRScs (can be update to UKB or other ethnic group)\n",
    "# bim_prefix: the genotype file, I used UKB42krep.QC, and this file is used to provide a list of SNPs that are available in the target dataset\n",
    "# sst_file: the summary statistics file, I used IQ.gwas, and this summary statistics file must include either BETA/OR + SE or BETA/OR + P, and it is strictly SNP/tA1/tA2/tBETA/tSE/n, etc.\n",
    "# n_gwas: the sample size of the summary statistics file, I used 74214, and this number is used to calculate the effective sample size\n",
    "\n",
    "import subprocess\n",
    "\n",
    "comm = f\"python3 /PRScs-master/PRScs.py \\\n",
    "--ref_dir=LD_reference/ldblk_1kg_eur \\\n",
    "--bim_prefix=Genotype/UKB/UKB42krep.QC \\\n",
    "--sst_file=IQ.gwas \\\n",
    "--n_gwas=74214 \\\n",
    "--out_dir=PRS/temp/IQ\"\n",
    "\n",
    "\n",
    "subprocess.run(comm,check=True)"
   ]
  },
  {
   "cell_type": "code",
   "execution_count": null,
   "id": "8bc1ee33",
   "metadata": {},
   "outputs": [],
   "source": [
    "\n",
    "input_dir = \"PRS/temp/\"\n",
    "output_file = \"IQ/PRS/Score/IQ.score\"\n",
    "\n",
    "with open(output_file, 'w') as f_out:\n",
    "    for j in range(1, 23):  # from chr 1 to 22\n",
    "        input_file = f\"{input_dir}IQ_pst_eff_a1_b0.5_phiauto_chr{j}.txt\"\n",
    "        print(f\"Appending file {input_file}\")  \n",
    "        try:\n",
    "            with open(input_file, 'r') as f_in:\n",
    "                f_out.write(f_in.read())  # \n",
    "        except FileNotFoundError:\n",
    "            print(f\"Warning: {input_file} not found. Skipping.\")\n",
    "        \n",
    "print(\"All files have been successfully appended.\")\n"
   ]
  },
  {
   "cell_type": "markdown",
   "id": "2683dc6a",
   "metadata": {},
   "source": [
    "### remove duplicate SNPs, keeping the first occurrence"
   ]
  },
  {
   "cell_type": "code",
   "execution_count": null,
   "id": "a13d4f04",
   "metadata": {},
   "outputs": [],
   "source": [
    "# Define input and output file paths\n",
    "input_file = \"IQ/PRS/Score/IQ.score\"\n",
    "output_file = \"IQ/PRS/Score/IQ.cleaned.score\"\n",
    "\n",
    "# Initialize an empty set to track seen SNPs\n",
    "seen_snp = set()\n",
    "\n",
    "# Open the input file for reading and output file for writing\n",
    "with open(input_file, 'r') as infile, open(output_file, 'w') as outfile:\n",
    "    for line in infile:\n",
    "        # Split the line into fields (assuming space or tab separated)\n",
    "        fields = line.strip().split()\n",
    "        \n",
    "        # Check if the SNP (second column) has been seen before\n",
    "        snp = fields[1]\n",
    "        \n",
    "        # If the SNP is not in the seen set, write the line to the output file\n",
    "        if snp not in seen_snp:\n",
    "            seen_snp.add(snp)\n",
    "            outfile.write(line)\n",
    "\n",
    "print(f\"Duplicates removed. Cleaned data saved to {output_file}.\")\n"
   ]
  },
  {
   "cell_type": "markdown",
   "id": "5578ab24",
   "metadata": {},
   "source": [
    "### Plink for final output"
   ]
  },
  {
   "cell_type": "code",
   "execution_count": null,
   "id": "e045c47e",
   "metadata": {},
   "outputs": [],
   "source": [
    "#Column 2: SNP IDs (the identifiers of the SNPs).\n",
    "#Column 4: A1 (the allele for which the effect size is estimated).\n",
    "#Column 6: The posterior effect size for each SNP (often the regression coefficient).\n",
    "\n",
    "comm = f\" /bin/plink1.9/plink \\\n",
    "--bfile /Genotype/UKB/UKB42krep.QC \\\n",
    "--score /IQ/PRS/Score/IQ.cleaned.score 2 4 6 \\\n",
    "--out /IQ/PRS/IQ\"\n",
    "\n",
    "subprocess.run(comm,check=True)"
   ]
  }
 ],
 "metadata": {
  "kernelspec": {
   "display_name": "Python_interpre",
   "language": "python",
   "name": "python3"
  },
  "language_info": {
   "codemirror_mode": {
    "name": "ipython",
    "version": 3
   },
   "file_extension": ".py",
   "mimetype": "text/x-python",
   "name": "python",
   "nbconvert_exporter": "python",
   "pygments_lexer": "ipython3",
   "version": "3.12.3"
  }
 },
 "nbformat": 4,
 "nbformat_minor": 5
}
